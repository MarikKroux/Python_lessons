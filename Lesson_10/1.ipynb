{
 "cells": [
  {
   "cell_type": "code",
   "execution_count": null,
   "metadata": {},
   "outputs": [],
   "source": [
    "# | Задание 44 |\n",
    "# | --- |\n",
    "# | В ячейке ниже представлен код генерирующий DataFrame, которая состоит всего из 1 столбца. \n",
    "# Ваша задача перевести его в one hot вид. Сможете ли вы это сделать без get_dummies?\n",
    "\n",
    "# import random\n",
    "# lst = ['robot'] * 10\n",
    "# lst += ['human'] * 10\n",
    "# random.shuffle(lst)\n",
    "# data = pd.DataFrame({'whoAmI'lst})\n",
    "# data.head() |\n",
    "\n",
    "import pandas as pd\n",
    "import random \n",
    "lst = ['robot'] * 10  \n",
    "lst += ['human'] * 10  \n",
    "random.shuffle(lst)  \n",
    "data = pd.DataFrame({'whoAmI':lst})\n",
    "print(data)\n",
    "\n",
    "# Без метода get_dummies\n",
    "pd.DataFrame({'human': data['whoAmI'] == 'human',\n",
    "              'robot': data['whoAmI'] == 'robot'}).astype(int)"
   ]
  }
 ],
 "metadata": {
  "language_info": {
   "name": "python"
  },
  "orig_nbformat": 4
 },
 "nbformat": 4,
 "nbformat_minor": 2
}
