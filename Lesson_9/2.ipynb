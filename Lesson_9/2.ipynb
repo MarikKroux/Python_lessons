{
 "cells": [
  {
   "cell_type": "code",
   "execution_count": null,
   "metadata": {},
   "outputs": [],
   "source": [
    "# Задача 42: Узнать какая максимальная households в зоне минимального значения population.\n",
    "\n",
    "import pandas as pd\n",
    "\n",
    "df = pd.read_csv(\"sample_data/california_housing_train.csv\")\n",
    "\n",
    "df[df['population'] == df['population'].min()].households.max()"
   ]
  }
 ],
 "metadata": {
  "language_info": {
   "name": "python"
  },
  "orig_nbformat": 4
 },
 "nbformat": 4,
 "nbformat_minor": 2
}
